{
 "cells": [
  {
   "cell_type": "code",
   "execution_count": 1,
   "metadata": {
    "collapsed": true,
    "pycharm": {
     "name": "#%%\n"
    }
   },
   "outputs": [
    {
     "name": "stderr",
     "output_type": "stream",
     "text": [
      "/home/respecting-god/anaconda3/envs/torch1.7.1/lib/python3.7/site-packages/torchaudio/backend/utils.py:54: UserWarning: \"sox\" backend is being deprecated. The default backend will be changed to \"sox_io\" backend in 0.8.0 and \"sox\" backend will be removed in 0.9.0. Please migrate to \"sox_io\" backend. Please refer to https://github.com/pytorch/audio/issues/903 for the detail.\n",
      "  '\"sox\" backend is being deprecated. '\n"
     ]
    }
   ],
   "source": [
    "from torch.utils.data import Dataset\n",
    "\n",
    "import stats as sts\n",
    "import librosa\n",
    "from tqdm import tqdm\n",
    "from config.utils import *\n",
    "import  argparse\n",
    "import torch\n",
    "import torchaudio\n",
    "from  torchaudio import  functional as F\n",
    "from config.gtg import gen_gamma_3channel, gammatonegram_torch\n"
   ]
  },
  {
   "cell_type": "code",
   "execution_count": 2,
   "outputs": [],
   "source": [
    "\n",
    "class image_loader(Dataset):\n",
    "    def __init__(self, data_dir, folds_file, test_fold, train_flag, params_json, input_transform=None, stetho_id=-1,\n",
    "                 aug_scale=None):\n",
    "\n",
    "        # getting device-wise information\n",
    "        self.file_to_device = {}\n",
    "        device_to_id = {}\n",
    "        device_id = 0\n",
    "        files = os.listdir(data_dir)\n",
    "        device_patient_list = []\n",
    "        pats = []\n",
    "        for f in files:\n",
    "            device = f.strip().split('_')[-1].split('.')[0]\n",
    "            if device not in device_to_id:\n",
    "                device_to_id[device] = device_id\n",
    "                device_id += 1\n",
    "                device_patient_list.append([])\n",
    "            self.file_to_device[f.strip().split('.')[0]] = device_to_id[device]\n",
    "            pat = f.strip().split('_')[0]\n",
    "            if pat not in device_patient_list[device_to_id[device]]:\n",
    "                device_patient_list[device_to_id[device]].append(pat)\n",
    "            if pat not in pats:\n",
    "                pats.append(pat)\n",
    "\n",
    "        print(\"DEVICE DICT\", device_to_id)\n",
    "        for idx in range(device_id):\n",
    "            print(\"Device\", idx, len(device_patient_list[idx]))\n",
    "\n",
    "        # get patients dict in current fold based on train flag\n",
    "        all_patients = open(folds_file).read().splitlines()  # 列表， 126个病人;  每个病人所对应的第几折中；\n",
    "        patient_dict = {}\n",
    "        for line in all_patients:  # 即当在当test_fold =4 时，  此时， patient_dict[] 只会有101 项病人， 不会包含第四折中的病人；\n",
    "            idx, fold = line.strip().split(' ')\n",
    "            if train_flag and int(fold) != test_fold:\n",
    "                patient_dict[idx] = fold\n",
    "            elif train_flag == False and int(fold) == test_fold:\n",
    "                patient_dict[idx] = fold\n",
    "\n",
    "        #extracting the audiofilenames and the data for breathing cycle and it's label\n",
    "        print(\n",
    "            \"Getting filenames ...\")  # filenames: 920 份文件名称， rec_annotation_dict: 920  个字典， 每个包含了该音频的分段标注信息， 即起始 ，终止时间， 标签类别；\n",
    "        filenames, rec_annotations_dict = get_annotations(data_dir)\n",
    "        if stetho_id >= 0:\n",
    "            self.filenames = [s for s in filenames if\n",
    "                              s.split('_')[0] in patient_dict and self.file_to_device[s] == stetho_id]\n",
    "        else:\n",
    "            self.filenames = [s for s in filenames if s.split('_')[0] in patient_dict]\n",
    "            # self.filenames = 722:   从filenames(920)分 中取出  patient_dict 的病人， 即只会取出 训练集中的编号病人，  即第4折中的病人数据 都没有包含，\n",
    "        self.audio_data = []  # each sample is a tuple with id_0: audio_data, id_1: label, id_2: file_name, id_3: cycle id, id_4: aug id, id_5: split id\n",
    "        self.labels = []\n",
    "        self.train_flag = train_flag\n",
    "        self.data_dir = data_dir\n",
    "        self.input_transform = input_transform\n",
    "\n",
    "        # parameters for spectrograms\n",
    "        self.sample_rate = 4000\n",
    "        self.desired_length = 8\n",
    "        self.n_mels = 64\n",
    "        self.nfft = 256\n",
    "        self.hop = self.nfft // 2\n",
    "        self.f_max = 2000\n",
    "\n",
    "        self.dump_images = False\n",
    "        self.filenames_with_labels = []\n",
    "\n",
    "        # get individual breathing cycles from each audio file\n",
    "        print(\"Exracting Individual Cycles\")\n",
    "        self.cycle_list = []  # self.cycle_list: 从训练集中的总共4折的病人中， 生成5454份，呼吸音音频；\n",
    "        self.classwise_cycle_list = [[], [], [], []]\n",
    "\n",
    "        self.classes_with_duration_list = [[], [], [], []]\n",
    "        # 按照类别将，　　每个类别下各个子音频的持续时间添加到其中；\n",
    "\n",
    "        for idx, file_name in tqdm(enumerate(self.filenames)):\n",
    "            data = get_sound_samples(rec_annotations_dict[file_name], file_name, data_dir, self.sample_rate)\n",
    "            cycles_with_labels = [(d[0], d[3], file_name, cycle_idx, 0) for cycle_idx, d in enumerate(data[1:])]\n",
    "            self.cycle_list.extend(cycles_with_labels)\n",
    "            for cycle_idx, d in enumerate(cycles_with_labels):\n",
    "                self.filenames_with_labels.append(file_name + '_' + str(d[3]) + '_' + str(d[1]))\n",
    "                self.classwise_cycle_list[d[1]].append(d)\n",
    "\n",
    "            # 1. 统计出四个类别下， 每个类别下, 各自样本所持续的时间； dur =  end - start;\n",
    "            for cycle_in_curr_record, cur_data in enumerate(data[1:]):\n",
    "                cycle_dur = cur_data[2] - cur_data[1]\n",
    "                #　由于此时的 cur_data[3] 代表的是子音频的标签，　所以范围0-3　符合四个列表的范围；\n",
    "                self.classes_with_duration_list[cur_data[3]].append(cycle_dur)\n",
    "\n",
    "        if train_flag:\n",
    "            print(\" in the traindataset :\\n\")\n",
    "            print(\" the number of normal samples: \\n\", len(self.classes_with_duration_list[0]))\n",
    "\n",
    "            normal_list = np.array(self.classes_with_duration_list[0])\n",
    "            plt.hist(normal_list, bins = 25)\n",
    "\n",
    "            print(\" the number of crackle samples: \\n\", len(self.classes_with_duration_list[1]))\n",
    "            crackle_list = np.array(self.classes_with_duration_list[1])\n",
    "            plt.hist(crackle_list, bins = 25)\n",
    "\n",
    "            print(\" the number of wheeze samples: \\n\", len(self.classes_with_duration_list[2]))\n",
    "            wheeze_list = np.array(self.classes_with_duration_list[2])\n",
    "            plt.hist(wheeze_list, bins = 25)\n",
    "\n",
    "            print(\" the number of both  samples: \\n\", len(self.classes_with_duration_list[3]))\n",
    "            normal_list = np.array(self.classes_with_duration_list[3])\n",
    "            plt.hist(normal_list, bins = 25)\n",
    "\n",
    "\n",
    "        if not train_flag:\n",
    "            print(\" in the testdataset :\\n\")\n",
    "\n",
    "            print(\"=============== the normal information =======================\")\n",
    "            normal = self.classes_with_duration_list[0]\n",
    "            normal = np.array(normal)\n",
    "            print(\" the number of normal samples: \\n\", len(normal))\n",
    "            dur_less_2s = np.sum(normal <2)\n",
    "            dur_2_3s = np.sum(normal < 3) - dur_less_2s\n",
    "            dur_3_4s = np.sum(normal < 4) - dur_less_2s - dur_2_3s\n",
    "            dur_more_4s = np.sum(normal >4)\n",
    "\n",
    "            print('  {} < Fraction of samples < {} seconds:  {} \\n'.format(0,2,dur_less_2s/len(normal)))\n",
    "            print('  {} < Fraction of samples < {} seconds:  {} \\n'.format(2,3,dur_2_3s/len(normal)))\n",
    "            print('  {} < Fraction of samples < {} seconds:  {} \\n'.format(3,4,dur_3_4s/len(normal)))\n",
    "            print('  {} < Fraction of samples  seconds:  {} \\n'.format(4,dur_more_4s/len(normal)))\n",
    "            normal_list = np.array(self.classes_with_duration_list[0])\n",
    "            plt.hist(normal_list, bins = 25)\n",
    "\n",
    "\n",
    "\n",
    "            print(\"=============== the crackle information =======================\")\n",
    "            crackle = self.classes_with_duration_list[1]\n",
    "            crackle = np.array(crackle)\n",
    "            print(\" the number of crackle samples: \\n\", len(crackle))\n",
    "            dur_less_2s = np.sum(crackle <2)\n",
    "            dur_2_3s = np.sum(crackle < 3) - dur_less_2s\n",
    "            dur_3_4s = np.sum(crackle < 4) - dur_less_2s - dur_2_3s\n",
    "            dur_more_4s = np.sum(crackle >4)\n",
    "\n",
    "            print('  {} < Fraction of samples < {} seconds:  {} \\n'.format(0,2,dur_less_2s/len(crackle)))\n",
    "            print('  {} < Fraction of samples < {} seconds:  {} \\n'.format(2,3,dur_2_3s/len(crackle)))\n",
    "            print('  {} < Fraction of samples < {} seconds:  {} \\n'.format(3,4,dur_3_4s/len(crackle)))\n",
    "            print('  {} < Fraction of samples  seconds:  {} \\n'.format(4,dur_more_4s/len(crackle)))\n",
    "            print(\" the number of crackle samples: \\n\", len(self.classes_with_duration_list[1]))\n",
    "            crackle_list = np.array(self.classes_with_duration_list[1])\n",
    "            plt.hist(crackle_list, bins = 25)\n",
    "\n",
    "\n",
    "            print(\"=============== the wheeze  information =======================\")\n",
    "            wheeze  = self.classes_with_duration_list[2]\n",
    "            wheeze  = np.array(wheeze )\n",
    "            print(\" the number of wheeze samples: \\n\", len(wheeze))\n",
    "            dur_less_2s = np.sum(wheeze <2)\n",
    "            dur_2_3s = np.sum(wheeze < 3) - dur_less_2s\n",
    "            dur_3_4s = np.sum(wheeze < 4) - dur_less_2s - dur_2_3s\n",
    "            dur_more_4s = np.sum(wheeze >4)\n",
    "\n",
    "            print('  {} < Fraction of samples < {} seconds:  {} \\n'.format(0,2,dur_less_2s/len(wheeze)))\n",
    "            print('  {} < Fraction of samples < {} seconds:  {} \\n'.format(2,3,dur_2_3s/len(wheeze)))\n",
    "            print('  {} < Fraction of samples < {} seconds:  {} \\n'.format(3,4,dur_3_4s/len(wheeze)))\n",
    "            print('  {} < Fraction of samples  seconds:  {} \\n'.format(4,dur_more_4s/len(wheeze)))\n",
    "            wheeze_list = np.array(self.classes_with_duration_list[0])\n",
    "            plt.hist(wheeze_list, bins = 25)\n",
    "\n",
    "\n",
    "            print(\"=============== the both  information =======================\")\n",
    "            both  = self.classes_with_duration_list[3]\n",
    "            both  = np.array(both )\n",
    "            print(\" the number of both samples: \\n\", len(both))\n",
    "            dur_less_2s = np.sum(both <2)\n",
    "            dur_2_3s = np.sum(both < 3) - dur_less_2s\n",
    "            dur_3_4s = np.sum(both < 4) - dur_less_2s - dur_2_3s\n",
    "            dur_more_4s = np.sum(both >4)\n",
    "\n",
    "            print('  {} < Fraction of samples < {} seconds:  {} \\n'.format(0,2,dur_less_2s/len(both)))\n",
    "            print('  {} < Fraction of samples < {} seconds:  {} \\n'.format(2,3,dur_2_3s/len(both)))\n",
    "            print('  {} < Fraction of samples < {} seconds:  {} \\n'.format(3,4,dur_3_4s/len(both)))\n",
    "            print('  {} < Fraction of samples  seconds:  {} \\n'.format(4,dur_more_4s/len(both)))\n",
    "            both_list = np.array(self.classes_with_duration_list[3])\n",
    "            plt.hist(both_list, bins = 25)\n",
    "\n",
    "\n",
    "\n",
    "\n",
    "\n",
    "\n",
    "\n",
    "    def __len__(self):\n",
    "        return len(self.audio_data)\n",
    "\n",
    "\n"
   ],
   "metadata": {
    "collapsed": false,
    "pycharm": {
     "name": "#%%\n"
    }
   }
  },
  {
   "cell_type": "code",
   "execution_count": 3,
   "outputs": [],
   "source": [
    "# --data_dir ./data/ICBHI_final_database/ --folds_file ./data/patient_list_foldwise.txt --model_path models_out --lr 1e-3 --batch_size 1 --num_worker 8 --start_epochs 0 --epochs 200 --test_fold 4 --checkpoint ./models/ckpt_best.pkl\n",
    "\n",
    "data_dir = '../data/ICBHI_final_database/'\n",
    "folds_file = '../data/patient_list_foldwise.txt'\n",
    "test_fold = 4"
   ],
   "metadata": {
    "collapsed": false,
    "pycharm": {
     "name": "#%%\n"
    }
   }
  },
  {
   "cell_type": "code",
   "execution_count": 4,
   "outputs": [
    {
     "name": "stdout",
     "output_type": "stream",
     "text": [
      "DEVICE DICT {'AKGC417L': 0, 'LittC2SE': 1, 'Meditron': 2, 'Litt3200': 3}\n",
      "Device 0 32\n",
      "Device 1 23\n",
      "Device 2 64\n",
      "Device 3 11\n",
      "Getting filenames ...\n",
      "Exracting Individual Cycles\n"
     ]
    },
    {
     "name": "stderr",
     "output_type": "stream",
     "text": [
      "722it [05:46,  2.09it/s]\n"
     ]
    },
    {
     "name": "stdout",
     "output_type": "stream",
     "text": [
      " in the traindataset :\n",
      "\n",
      " the number of normal samples: \n",
      " 2867\n",
      " the number of crackle samples: \n",
      " 1473\n",
      " the number of wheeze samples: \n",
      " 680\n",
      " the number of both  samples: \n",
      " 434\n"
     ]
    },
    {
     "data": {
      "text/plain": "<Figure size 432x288 with 1 Axes>",
      "image/png": "[encoded data removed]"
     },
     "metadata": {
      "needs_background": "light"
     },
     "output_type": "display_data"
    }
   ],
   "source": [
    "\n",
    "audio_image = image_loader(data_dir, folds_file,test_fold, True, \"Params_json\", input_transform=None, stetho_id=-1)"
   ],
   "metadata": {
    "collapsed": false,
    "pycharm": {
     "name": "#%%\n"
    }
   }
  },
  {
   "cell_type": "code",
   "execution_count": 5,
   "outputs": [
    {
     "data": {
      "text/plain": "'\\nin the testdataset :\\n\\n=============== the normal information =======================\\n the number of normal samples:\\n 775\\n  0 < Fraction of samples < 2 seconds:  0.37548387096774194\\n\\n  2 < Fraction of samples < 3 seconds:  0.41419354838709677\\n\\n  3 < Fraction of samples < 4 seconds:  0.1664516129032258\\n\\n  4 < Fraction of samples  seconds:  0.04387096774193548\\n\\n=============== the crackle information =======================\\nthe number of crackle samples:\\n 391\\n  0 < Fraction of samples < 2 seconds:  0.1534526854219949\\n\\n  2 < Fraction of samples < 3 seconds:  0.27621483375959077\\n\\n  3 < Fraction of samples < 4 seconds:  0.4578005115089514\\n\\n  4 < Fraction of samples  seconds:  0.11253196930946291\\n\\n\\n=============== the wheeze  information =======================\\n the number of wheeze samples:\\n 206\\n  0 < Fraction of samples < 2 seconds:  0.28640776699029125\\n\\n  2 < Fraction of samples < 3 seconds:  0.30097087378640774\\n\\n  3 < Fraction of samples < 4 seconds:  0.32038834951456313\\n\\n  4 < Fraction of samples  seconds:  0.09223300970873786\\n\\n\\n=============== the both  information =======================\\n the number of both samples:\\n 72\\n  0 < Fraction of samples < 2 seconds:  0.1527777777777778\\n\\n  2 < Fraction of samples < 3 seconds:  0.09722222222222222\\n\\n  3 < Fraction of samples < 4 seconds:  0.4305555555555556\\n\\n  4 < Fraction of samples  seconds:  0.3194444444444444\\n\\n\\n\\n\\n\\n\\n'"
     },
     "execution_count": 5,
     "metadata": {},
     "output_type": "execute_result"
    }
   ],
   "source": [
    "\"\"\"\n",
    "in the testdataset :\n",
    "\n",
    "=============== the normal information =======================\n",
    " the number of normal samples:\n",
    " 775\n",
    "  0 < Fraction of samples < 2 seconds:  0.37548387096774194\n",
    "\n",
    "  2 < Fraction of samples < 3 seconds:  0.41419354838709677\n",
    "\n",
    "  3 < Fraction of samples < 4 seconds:  0.1664516129032258\n",
    "\n",
    "  4 < Fraction of samples  seconds:  0.04387096774193548\n",
    "\n",
    "=============== the crackle information =======================\n",
    "the number of crackle samples:\n",
    " 391\n",
    "  0 < Fraction of samples < 2 seconds:  0.1534526854219949\n",
    "\n",
    "  2 < Fraction of samples < 3 seconds:  0.27621483375959077\n",
    "\n",
    "  3 < Fraction of samples < 4 seconds:  0.4578005115089514\n",
    "\n",
    "  4 < Fraction of samples  seconds:  0.11253196930946291\n",
    "\n",
    "\n",
    "=============== the wheeze  information =======================\n",
    " the number of wheeze samples:\n",
    " 206\n",
    "  0 < Fraction of samples < 2 seconds:  0.28640776699029125\n",
    "\n",
    "  2 < Fraction of samples < 3 seconds:  0.30097087378640774\n",
    "\n",
    "  3 < Fraction of samples < 4 seconds:  0.32038834951456313\n",
    "\n",
    "  4 < Fraction of samples  seconds:  0.09223300970873786\n",
    "\n",
    "\n",
    "=============== the both  information =======================\n",
    " the number of both samples:\n",
    " 72\n",
    "  0 < Fraction of samples < 2 seconds:  0.1527777777777778\n",
    "\n",
    "  2 < Fraction of samples < 3 seconds:  0.09722222222222222\n",
    "\n",
    "  3 < Fraction of samples < 4 seconds:  0.4305555555555556\n",
    "\n",
    "  4 < Fraction of samples  seconds:  0.3194444444444444\n",
    "\n",
    "\n",
    "\n",
    "\n",
    "\n",
    "\n",
    "\"\"\""
   ],
   "metadata": {
    "collapsed": false,
    "pycharm": {
     "name": "#%%\n"
    }
   }
  },
  {
   "cell_type": "markdown",
   "source": [],
   "metadata": {
    "collapsed": false,
    "pycharm": {
     "name": "#%% md\n"
    }
   }
  }
 ],
 "metadata": {
  "kernelspec": {
   "display_name": "Python 3",
   "language": "python",
   "name": "python3"
  },
  "language_info": {
   "codemirror_mode": {
    "name": "ipython",
    "version": 2
   },
   "file_extension": ".py",
   "mimetype": "text/x-python",
   "name": "python",
   "nbconvert_exporter": "python",
   "pygments_lexer": "ipython2",
   "version": "2.7.6"
  }
 },
 "nbformat": 4,
 "nbformat_minor": 0
}